{
 "cells": [
  {
   "cell_type": "markdown",
   "metadata": {},
   "source": [
    "# Genetic Algorithm through Conventional Machine Learning approach for Classification"
   ]
  },
  {
   "cell_type": "markdown",
   "metadata": {},
   "source": [
    "<strong>Akmal Muzakki Bakir (1305210087)</strong>"
   ]
  },
  {
   "cell_type": "markdown",
   "metadata": {},
   "source": [
    "## Library Preparation"
   ]
  },
  {
   "cell_type": "code",
   "execution_count": 70,
   "metadata": {},
   "outputs": [],
   "source": [
    "import pandas as pd\n",
    "import numpy as np\n",
    "import random\n",
    "import matplotlib.pyplot as plt\n",
    "\n",
    "from sklearn.model_selection import train_test_split\n",
    "from sklearn.preprocessing import LabelEncoder, OneHotEncoder, StandardScaler\n",
    "\n",
    "from tqdm import tqdm"
   ]
  },
  {
   "cell_type": "markdown",
   "metadata": {},
   "source": [
    "## Dataset Preparation"
   ]
  },
  {
   "cell_type": "code",
   "execution_count": 71,
   "metadata": {},
   "outputs": [
    {
     "data": {
      "text/html": [
       "<div>\n",
       "<style scoped>\n",
       "    .dataframe tbody tr th:only-of-type {\n",
       "        vertical-align: middle;\n",
       "    }\n",
       "\n",
       "    .dataframe tbody tr th {\n",
       "        vertical-align: top;\n",
       "    }\n",
       "\n",
       "    .dataframe thead th {\n",
       "        text-align: right;\n",
       "    }\n",
       "</style>\n",
       "<table border=\"1\" class=\"dataframe\">\n",
       "  <thead>\n",
       "    <tr style=\"text-align: right;\">\n",
       "      <th></th>\n",
       "      <th>class</th>\n",
       "      <th>cap-shape</th>\n",
       "      <th>cap-surface</th>\n",
       "      <th>cap-color</th>\n",
       "      <th>bruises</th>\n",
       "      <th>odor</th>\n",
       "      <th>gill-attachment</th>\n",
       "      <th>gill-spacing</th>\n",
       "      <th>gill-size</th>\n",
       "      <th>gill-color</th>\n",
       "      <th>...</th>\n",
       "      <th>stalk-surface-below-ring</th>\n",
       "      <th>stalk-color-above-ring</th>\n",
       "      <th>stalk-color-below-ring</th>\n",
       "      <th>veil-type</th>\n",
       "      <th>veil-color</th>\n",
       "      <th>ring-number</th>\n",
       "      <th>ring-type</th>\n",
       "      <th>spore-print-color</th>\n",
       "      <th>population</th>\n",
       "      <th>habitat</th>\n",
       "    </tr>\n",
       "  </thead>\n",
       "  <tbody>\n",
       "    <tr>\n",
       "      <th>0</th>\n",
       "      <td>p</td>\n",
       "      <td>x</td>\n",
       "      <td>s</td>\n",
       "      <td>n</td>\n",
       "      <td>t</td>\n",
       "      <td>p</td>\n",
       "      <td>f</td>\n",
       "      <td>c</td>\n",
       "      <td>n</td>\n",
       "      <td>k</td>\n",
       "      <td>...</td>\n",
       "      <td>s</td>\n",
       "      <td>w</td>\n",
       "      <td>w</td>\n",
       "      <td>p</td>\n",
       "      <td>w</td>\n",
       "      <td>o</td>\n",
       "      <td>p</td>\n",
       "      <td>k</td>\n",
       "      <td>s</td>\n",
       "      <td>u</td>\n",
       "    </tr>\n",
       "    <tr>\n",
       "      <th>1</th>\n",
       "      <td>e</td>\n",
       "      <td>x</td>\n",
       "      <td>s</td>\n",
       "      <td>y</td>\n",
       "      <td>t</td>\n",
       "      <td>a</td>\n",
       "      <td>f</td>\n",
       "      <td>c</td>\n",
       "      <td>b</td>\n",
       "      <td>k</td>\n",
       "      <td>...</td>\n",
       "      <td>s</td>\n",
       "      <td>w</td>\n",
       "      <td>w</td>\n",
       "      <td>p</td>\n",
       "      <td>w</td>\n",
       "      <td>o</td>\n",
       "      <td>p</td>\n",
       "      <td>n</td>\n",
       "      <td>n</td>\n",
       "      <td>g</td>\n",
       "    </tr>\n",
       "    <tr>\n",
       "      <th>2</th>\n",
       "      <td>e</td>\n",
       "      <td>b</td>\n",
       "      <td>s</td>\n",
       "      <td>w</td>\n",
       "      <td>t</td>\n",
       "      <td>l</td>\n",
       "      <td>f</td>\n",
       "      <td>c</td>\n",
       "      <td>b</td>\n",
       "      <td>n</td>\n",
       "      <td>...</td>\n",
       "      <td>s</td>\n",
       "      <td>w</td>\n",
       "      <td>w</td>\n",
       "      <td>p</td>\n",
       "      <td>w</td>\n",
       "      <td>o</td>\n",
       "      <td>p</td>\n",
       "      <td>n</td>\n",
       "      <td>n</td>\n",
       "      <td>m</td>\n",
       "    </tr>\n",
       "    <tr>\n",
       "      <th>3</th>\n",
       "      <td>p</td>\n",
       "      <td>x</td>\n",
       "      <td>y</td>\n",
       "      <td>w</td>\n",
       "      <td>t</td>\n",
       "      <td>p</td>\n",
       "      <td>f</td>\n",
       "      <td>c</td>\n",
       "      <td>n</td>\n",
       "      <td>n</td>\n",
       "      <td>...</td>\n",
       "      <td>s</td>\n",
       "      <td>w</td>\n",
       "      <td>w</td>\n",
       "      <td>p</td>\n",
       "      <td>w</td>\n",
       "      <td>o</td>\n",
       "      <td>p</td>\n",
       "      <td>k</td>\n",
       "      <td>s</td>\n",
       "      <td>u</td>\n",
       "    </tr>\n",
       "    <tr>\n",
       "      <th>4</th>\n",
       "      <td>e</td>\n",
       "      <td>x</td>\n",
       "      <td>s</td>\n",
       "      <td>g</td>\n",
       "      <td>f</td>\n",
       "      <td>n</td>\n",
       "      <td>f</td>\n",
       "      <td>w</td>\n",
       "      <td>b</td>\n",
       "      <td>k</td>\n",
       "      <td>...</td>\n",
       "      <td>s</td>\n",
       "      <td>w</td>\n",
       "      <td>w</td>\n",
       "      <td>p</td>\n",
       "      <td>w</td>\n",
       "      <td>o</td>\n",
       "      <td>e</td>\n",
       "      <td>n</td>\n",
       "      <td>a</td>\n",
       "      <td>g</td>\n",
       "    </tr>\n",
       "  </tbody>\n",
       "</table>\n",
       "<p>5 rows × 23 columns</p>\n",
       "</div>"
      ],
      "text/plain": [
       "  class cap-shape cap-surface cap-color bruises odor gill-attachment  \\\n",
       "0     p         x           s         n       t    p               f   \n",
       "1     e         x           s         y       t    a               f   \n",
       "2     e         b           s         w       t    l               f   \n",
       "3     p         x           y         w       t    p               f   \n",
       "4     e         x           s         g       f    n               f   \n",
       "\n",
       "  gill-spacing gill-size gill-color  ... stalk-surface-below-ring  \\\n",
       "0            c         n          k  ...                        s   \n",
       "1            c         b          k  ...                        s   \n",
       "2            c         b          n  ...                        s   \n",
       "3            c         n          n  ...                        s   \n",
       "4            w         b          k  ...                        s   \n",
       "\n",
       "  stalk-color-above-ring stalk-color-below-ring veil-type veil-color  \\\n",
       "0                      w                      w         p          w   \n",
       "1                      w                      w         p          w   \n",
       "2                      w                      w         p          w   \n",
       "3                      w                      w         p          w   \n",
       "4                      w                      w         p          w   \n",
       "\n",
       "  ring-number ring-type spore-print-color population habitat  \n",
       "0           o         p                 k          s       u  \n",
       "1           o         p                 n          n       g  \n",
       "2           o         p                 n          n       m  \n",
       "3           o         p                 k          s       u  \n",
       "4           o         e                 n          a       g  \n",
       "\n",
       "[5 rows x 23 columns]"
      ]
     },
     "execution_count": 71,
     "metadata": {},
     "output_type": "execute_result"
    }
   ],
   "source": [
    "df = pd.read_csv('mushrooms.csv')\n",
    "df.head()"
   ]
  },
  {
   "cell_type": "code",
   "execution_count": 72,
   "metadata": {},
   "outputs": [
    {
     "name": "stdout",
     "output_type": "stream",
     "text": [
      "<class 'pandas.core.frame.DataFrame'>\n",
      "RangeIndex: 8124 entries, 0 to 8123\n",
      "Data columns (total 23 columns):\n",
      " #   Column                    Non-Null Count  Dtype \n",
      "---  ------                    --------------  ----- \n",
      " 0   class                     8124 non-null   object\n",
      " 1   cap-shape                 8124 non-null   object\n",
      " 2   cap-surface               8124 non-null   object\n",
      " 3   cap-color                 8124 non-null   object\n",
      " 4   bruises                   8124 non-null   object\n",
      " 5   odor                      8124 non-null   object\n",
      " 6   gill-attachment           8124 non-null   object\n",
      " 7   gill-spacing              8124 non-null   object\n",
      " 8   gill-size                 8124 non-null   object\n",
      " 9   gill-color                8124 non-null   object\n",
      " 10  stalk-shape               8124 non-null   object\n",
      " 11  stalk-root                8124 non-null   object\n",
      " 12  stalk-surface-above-ring  8124 non-null   object\n",
      " 13  stalk-surface-below-ring  8124 non-null   object\n",
      " 14  stalk-color-above-ring    8124 non-null   object\n",
      " 15  stalk-color-below-ring    8124 non-null   object\n",
      " 16  veil-type                 8124 non-null   object\n",
      " 17  veil-color                8124 non-null   object\n",
      " 18  ring-number               8124 non-null   object\n",
      " 19  ring-type                 8124 non-null   object\n",
      " 20  spore-print-color         8124 non-null   object\n",
      " 21  population                8124 non-null   object\n",
      " 22  habitat                   8124 non-null   object\n",
      "dtypes: object(23)\n",
      "memory usage: 1.4+ MB\n"
     ]
    }
   ],
   "source": [
    "df.info()"
   ]
  },
  {
   "cell_type": "code",
   "execution_count": 73,
   "metadata": {},
   "outputs": [],
   "source": [
    "# Pembagian data training\n",
    "y_train = df['class']\n",
    "x_train = df.drop('class', axis=1)\n",
    "\n",
    "le = LabelEncoder()\n",
    "\n",
    "cols = x_train.columns.values\n",
    "for col in cols:\n",
    "    x_train[col] = le.fit_transform(x_train[col])\n",
    "y_train = le.fit_transform(y_train)"
   ]
  },
  {
   "cell_type": "code",
   "execution_count": 74,
   "metadata": {},
   "outputs": [],
   "source": [
    "# Menentukan jumlah fitur secara otomatis\n",
    "ohe = OneHotEncoder(categories='auto')\n",
    "sc = StandardScaler()\n",
    "\n",
    "# Pengubahan data ke dalam bentuk array\n",
    "x_train = ohe.fit_transform(x_train).toarray()\n",
    "\n",
    "# Normalisasi data\n",
    "x_train = sc.fit_transform(x_train)"
   ]
  },
  {
   "cell_type": "code",
   "execution_count": 75,
   "metadata": {},
   "outputs": [],
   "source": [
    "# Pembagian data training, validasi, dan testing\n",
    "x_train, x_test, y_train, y_test = train_test_split(x_train, y_train, test_size=0.3, random_state=42)\n",
    "x_valid, x_test, y_valid, y_test = train_test_split(x_test, y_test, test_size=0.5, random_state=42)"
   ]
  },
  {
   "cell_type": "markdown",
   "metadata": {},
   "source": [
    "## Artificial Neural Network Architecture"
   ]
  },
  {
   "cell_type": "code",
   "execution_count": 76,
   "metadata": {},
   "outputs": [],
   "source": [
    "class ActivationFunction:\n",
    "    # Mendefinisiakan fungsi \n",
    "    @staticmethod\n",
    "    def sigmoid(x):\n",
    "        return 1 / (1 + np.exp(-x))\n",
    "\n",
    "    # Mendefinisikan fungsi aktivasi relu\n",
    "    @staticmethod\n",
    "    def relu(x):\n",
    "        return np.maximum(0, x)"
   ]
  },
  {
   "cell_type": "code",
   "execution_count": 77,
   "metadata": {},
   "outputs": [],
   "source": [
    "class NeuralNetwork:\n",
    "    # Mendefinisikan fungsi untuk melakukan propagasi maju\n",
    "    @staticmethod\n",
    "    def forward(x, w, activation):\n",
    "        return activation(np.matmul(x, w))\n",
    "\n",
    "    # Mendefiniskan fungsi untuk menghitung akurasi prediksi\n",
    "    @staticmethod\n",
    "    def accuracy_fn(y, y_hat):\n",
    "        return (np.where(y == y_hat)[0].size / y_hat.size)\n",
    "\n",
    "    # Mendefinisikan fungsi untuk melakukan prediksi menggunakan jaringan saraf yang telah dilatih\n",
    "    @staticmethod\n",
    "    def predict(x, y_hat, weights, activation):\n",
    "        predictions = np.zeros(shape=(x.shape[0]))\n",
    "        \n",
    "        # Loop untuk melakukan prediksi pada setiap data\n",
    "        for idx in range(x.shape[0]):\n",
    "            r1 = x[idx, :]\n",
    "            \n",
    "            # Melakukan propagasi maju melalui setiap lapisan menggunakan bobot yang telah dilatih\n",
    "            for curr_weights in weights:\n",
    "                r1 = forward(r1, curr_weights, activation)\n",
    "            # Mengambil label kelas dengan nilai prediksi tertinggi sebagai hasil prediksi\n",
    "            predictions[idx] = np.where(r1 == np.max(r1))[0][0]\n",
    "\n",
    "        # Menghitung akurasi prediksi\n",
    "        accuracy = accuracy_fn(predictions, y_hat)\n",
    "        return accuracy, predictions\n",
    "\n",
    "    # Mendefinisikan fungsi untuk menghitung akurasi untuk setiap set bobot\n",
    "    @staticmethod\n",
    "    def fitness(x, y_hat, weights, activation):\n",
    "        accuracy = np.empty(shape=(weights.shape[0]))\n",
    "        \n",
    "        # Loop melalui setiap individu dalam populasi dan menghitung akurasinya\n",
    "        for idx in range(weights.shape[0]):\n",
    "            accuracy[idx], _ = predict(x, y_hat, weights[idx, :], activation)\n",
    "        return accuracy"
   ]
  },
  {
   "cell_type": "markdown",
   "metadata": {},
   "source": [
    "### Vector-Matrix Manipulations"
   ]
  },
  {
   "cell_type": "code",
   "execution_count": 78,
   "metadata": {},
   "outputs": [],
   "source": [
    "# Mendefiniskan fungsi untuk mengonversi matriks bobot menjadi representasi vektor\n",
    "def mat_to_vector(mat_pop_weights):\n",
    "    pop_weights_vector = []\n",
    "    \n",
    "    # Loop melalui setiap individu dalam populasi\n",
    "    for sol_idx in range(mat_pop_weights.shape[0]):\n",
    "        curr_vector = []\n",
    "        \n",
    "        # Loop melalui setiap lapisan dalam individu\n",
    "        for layer_idx in range(mat_pop_weights.shape[1]):\n",
    "            # Mengubah matriks bobot menjadi vektor\n",
    "            vector_weights = np.reshape(mat_pop_weights[sol_idx, layer_idx], newshape=(mat_pop_weights[sol_idx, layer_idx].size))\n",
    "            curr_vector.extend(vector_weights)\n",
    "        # Menambahkan vektor bobot individu ke dalam array\n",
    "        pop_weights_vector.append(curr_vector)\n",
    "    \n",
    "    # Mengembalikan array berisi vektor bobot individu\n",
    "    return np.array(pop_weights_vector)\n",
    "\n",
    "# Mendefinisikan fungsi untuk mengonversi representasi vektor menjadi matriks bobot\n",
    "def vector_to_mat(vector_pop_weights, mat_pop_weights):\n",
    "    mat_weights = []\n",
    "    \n",
    "    # Loop melalui setiap individu dalam populasi\n",
    "    for sol_idx in range(mat_pop_weights.shape[0]):\n",
    "        start = 0\n",
    "        end = 0\n",
    "        \n",
    "        # Loop melalui setiap lapisan pada individu\n",
    "        for layer_idx in range(mat_pop_weights.shape[1]):\n",
    "            end = end + mat_pop_weights[sol_idx, layer_idx].size\n",
    "            # Memotong vektor sesuai dengan lapisan ukuran matriks bobot\n",
    "            curr_vector = vector_pop_weights[sol_idx, start:end]\n",
    "            # Mengubah vektor menjadi matriks bobot\n",
    "            mat_layer_weights = np.reshape(curr_vector, newshape=(mat_pop_weights[sol_idx, layer_idx].shape))\n",
    "            mat_weights.append(mat_layer_weights)\n",
    "            start = end\n",
    "    \n",
    "    # Mengembalikan array berisi matriks bobot populasi yang telah dikembalikan ke bentuk semula  \n",
    "    return np.reshape(mat_weights, newshape=mat_pop_weights.shape)"
   ]
  },
  {
   "cell_type": "markdown",
   "metadata": {},
   "source": [
    "## Genetic Algorithm Architecture"
   ]
  },
  {
   "cell_type": "code",
   "execution_count": 79,
   "metadata": {},
   "outputs": [],
   "source": [
    "class GeneticAlgorithm:    \n",
    "    # Mendefinisikan fungsi untuk memilih individu-individu dalam populasi yang akan digunakan sebagai orangtua untuk reproduksi\n",
    "    @staticmethod\n",
    "    def mating_pool(pop, fitness, num_parents):\n",
    "        parents = np.empty((num_parents, pop.shape[1]))\n",
    "        \n",
    "        # Memilih individu-orangtua dengan nilai fitness tertinggi untuk reproduksi\n",
    "        for parent_num in range(num_parents):\n",
    "            max_fitness_idx = np.where(fitness == np.max(fitness))\n",
    "            max_fitness_idx = max_fitness_idx[0][0]\n",
    "            parents[parent_num, :] = pop[max_fitness_idx, :]\n",
    "            fitness[max_fitness_idx] = -99\n",
    "            \n",
    "        return parents\n",
    "    \n",
    "    # Mendefinisikan fungsi untuk melakukan operasi crossover pada individu-individu orangtua\n",
    "    @staticmethod\n",
    "    def crossover(parents, offspring_size):\n",
    "        offspring = np.empty(offspring_size)\n",
    "        crossover_point = np.uint32(offspring_size[1]/2)\n",
    "\n",
    "        for k in range(offspring_size[0]):\n",
    "            parent1_idx = k % parents.shape[0]\n",
    "            parent2_idx = (k + 1) % parents.shape[0]\n",
    "            \n",
    "            # Memilih bagian genetik dari kedua orangtua untuk digabungkan\n",
    "            offspring[k, 0:crossover_point] = parents[parent1_idx, 0:crossover_point]\n",
    "            offspring[k, crossover_point:] = parents[parent2_idx, crossover_point:]\n",
    "            \n",
    "        return offspring\n",
    "\n",
    "    # Mendefinisikan fungsi untuk melakukan mutasi pada individu-individu hasil operasi crossover\n",
    "    @staticmethod\n",
    "    def mutation(offspring_crossover, mutation_percent):\n",
    "        num_mutations = np.uint32((mutation_percent * offspring_crossover.shape[1]))\n",
    "        mutation_indices = np.array(random.sample(range(0, offspring_crossover.shape[1]), num_mutations))\n",
    "        \n",
    "        for idx in range(offspring_crossover.shape[0]):\n",
    "            # Menambahkan nilai acak pada gen-gen yang mengalami mutasi\n",
    "            random_value = np.random.uniform(-1.0, 1.0, 1)\n",
    "            offspring_crossover[idx, mutation_indices] = offspring_crossover[idx, mutation_indices] + random_value\n",
    "        \n",
    "        return offspring_crossover"
   ]
  },
  {
   "cell_type": "markdown",
   "metadata": {},
   "source": [
    "### Parameters"
   ]
  },
  {
   "cell_type": "code",
   "execution_count": 80,
   "metadata": {},
   "outputs": [],
   "source": [
    "# Inisialisasi parameter\n",
    "solution_per_population = 8 # Jumlah individu dalam satu populasi\n",
    "num_parents_mating = 4 # Jumlah individu-orangtua yang akan digunakan untuk reproduksi\n",
    "num_generations = 100 # Jumlah generasi yang akan dilatih\n",
    "mutation_percent = 0.20 # Persentase individu yang akan mengalami mutasi"
   ]
  },
  {
   "cell_type": "code",
   "execution_count": 81,
   "metadata": {},
   "outputs": [],
   "source": [
    "# Inisialisasi ukuran input dan output\n",
    "input_shape = x_train.shape[1]\n",
    "output_shape = len(np.unique(y_train))"
   ]
  },
  {
   "cell_type": "markdown",
   "metadata": {},
   "source": [
    "### Weight Initialization"
   ]
  },
  {
   "cell_type": "code",
   "execution_count": 82,
   "metadata": {},
   "outputs": [],
   "source": [
    "def weight_initialization(solution_per_population, input_shape, output_shape):    \n",
    "    initial_weights = []\n",
    "    # Untuk setiap individu dalam populasi\n",
    "    for _ in np.arange(0, solution_per_population):\n",
    "        \n",
    "        # Inisialisasi bobot secara acak\n",
    "        w1 = np.random.uniform(low=-0.1, high=0.1, size=(input_shape, 128))\n",
    "        w2 = np.random.uniform(low=-0.1, high=0.1, size=(128, 64))\n",
    "        w3 = np.random.uniform(low=-0.1, high=0.1, size=(64, output_shape))\n",
    "\n",
    "        initial_weights.append(np.array([w1, w2, w3]))\n",
    "    \n",
    "    # Mengembalikan array berisi matriks bobot populasi\n",
    "    return np.array(initial_weights)"
   ]
  },
  {
   "cell_type": "code",
   "execution_count": 83,
   "metadata": {},
   "outputs": [
    {
     "name": "stderr",
     "output_type": "stream",
     "text": [
      "C:\\Users\\akmal\\AppData\\Local\\Temp\\ipykernel_5864\\483491245.py:11: VisibleDeprecationWarning: Creating an ndarray from ragged nested sequences (which is a list-or-tuple of lists-or-tuples-or ndarrays with different lengths or shapes) is deprecated. If you meant to do this, you must specify 'dtype=object' when creating the ndarray.\n",
      "  initial_weights.append(np.array([w1, w2, w3]))\n"
     ]
    }
   ],
   "source": [
    "weights_mat = weight_initialization(solution_per_population, input_shape, output_shape)\n",
    "weights_vector = mat_to_vector(weights_mat)\n",
    "\n",
    "best_outputs = []\n",
    "accuracies = np.empty(shape=(num_generations))"
   ]
  },
  {
   "cell_type": "code",
   "execution_count": 84,
   "metadata": {},
   "outputs": [],
   "source": [
    "af = ActivationFunction()\n",
    "nn = NeuralNetwork()\n",
    "ga = GeneticAlgorithm()"
   ]
  },
  {
   "cell_type": "markdown",
   "metadata": {},
   "source": [
    "## Training"
   ]
  },
  {
   "cell_type": "code",
   "execution_count": 85,
   "metadata": {},
   "outputs": [
    {
     "name": "stderr",
     "output_type": "stream",
     "text": [
      "  0%|          | 0/100 [00:00<?, ?it/s]c:\\Users\\akmal\\anaconda3\\lib\\site-packages\\numpy\\core\\fromnumeric.py:43: VisibleDeprecationWarning: Creating an ndarray from ragged nested sequences (which is a list-or-tuple of lists-or-tuples-or ndarrays with different lengths or shapes) is deprecated. If you meant to do this, you must specify 'dtype=object' when creating the ndarray.\n",
      "  result = getattr(asarray(obj), method)(*args, **kwds)\n"
     ]
    },
    {
     "name": "stderr",
     "output_type": "stream",
     "text": [
      "100%|██████████| 100/100 [16:39<00:00,  9.99s/it]\n"
     ]
    }
   ],
   "source": [
    "for generation in tqdm(range(num_generations)):\n",
    "    # Melakukan konversi vektor bobot kembali menjadi bentuk matriks bobot\n",
    "    weights_mat = vector_to_mat(weights_vector, weights_mat)\n",
    "    # Menghitung nilai fitness untuk setiap individu dalam populasi\n",
    "    fit = nn.fitness(x_train, y_train, weights_mat, activation=sigmoid)\n",
    "    # Menyimpan nilai akurasi dari populasi saat ini\n",
    "    accuracies[generation] = fit[0]\n",
    "    # Memilih individu-orangtua dari populasi saat ini, dimana individu-orangtua yang memiliki nilai fitness tertinggi akan dipilih\n",
    "    parents = ga.mating_pool(weights_vector, fit.copy(), num_parents_mating)\n",
    "    # Melakukan operasi crossover untuk menghasilkan keturunan pada individu-orangtua yang telah dipilih\n",
    "    offspring_crossover = ga.crossover(parents, offspring_size=(weights_vector.shape[0]-parents.shape[0], weights_vector.shape[1]))\n",
    "    # Melakukan operasi mutasi pada keturunan yang telah dihasilkan\n",
    "    offspring_mutation = ga.mutation(offspring_crossover, mutation_percent=mutation_percent)\n",
    "    # Menggantikan individu-individu dalam populasi dengan keturunan yang telah dihasilkan dan menyusun kembali populasi dari langkah awal\n",
    "    weights_vector[0:parents.shape[0], :] = parents\n",
    "    weights_vector[parents.shape[0]:, :] = offspring_mutation"
   ]
  },
  {
   "cell_type": "markdown",
   "metadata": {},
   "source": [
    "## Analysis"
   ]
  },
  {
   "cell_type": "code",
   "execution_count": 86,
   "metadata": {},
   "outputs": [
    {
     "name": "stdout",
     "output_type": "stream",
     "text": [
      "Accuracy of the best solution is :  0.8746042912416462\n",
      "Predictions :  [1. 0. 1. ... 0. 1. 0.]\n"
     ]
    }
   ],
   "source": [
    "# Analisis hasil pelatihan\n",
    "weights_mat = vector_to_mat(weights_vector, weights_mat)\n",
    "best_weights = weights_mat [0, :]\n",
    "acc, predictions = nn.predict(x_train, y_train, best_weights, activation=sigmoid)\n",
    "print(\"Accuracy of the best solution is : \", acc)\n",
    "print(\"Predictions : \", predictions)"
   ]
  },
  {
   "cell_type": "code",
   "execution_count": 87,
   "metadata": {},
   "outputs": [
    {
     "data": {
      "image/png": "[encoded data removed]",
      "text/plain": [
       "<Figure size 1000x500 with 1 Axes>"
      ]
     },
     "metadata": {},
     "output_type": "display_data"
    }
   ],
   "source": [
    "# Memvisualisasikan akurasi prediksi pada setiap generasi\n",
    "plt.figure(figsize=(10, 5))\n",
    "plt.plot(accuracies)\n",
    "plt.grid(True)\n",
    "plt.xlabel(\"Iteration\")\n",
    "plt.ylabel(\"Fitness\")\n",
    "plt.yticks(np.arange(0, 1, 0.1))\n",
    "plt.show()"
   ]
  },
  {
   "cell_type": "markdown",
   "metadata": {},
   "source": [
    "## References"
   ]
  },
  {
   "cell_type": "markdown",
   "metadata": {},
   "source": [
    "https://www.linkedin.com/pulse/introduction-optimization-genetic-algorithm-ahmed-gad/\n",
    ">\n",
    "https://www.kdnuggets.com/2018/03/introduction-optimization-with-genetic-algorithm.html\n",
    ">\n",
    "https://towardsdatascience.com/introduction-to-optimization-with-genetic-algorithm-2f5001d9964b\n",
    ">\n",
    "https://www.springer.com/us/book/9781484241660"
   ]
  }
 ],
 "metadata": {
  "kernelspec": {
   "display_name": "base",
   "language": "python",
   "name": "python3"
  },
  "language_info": {
   "codemirror_mode": {
    "name": "ipython",
    "version": 3
   },
   "file_extension": ".py",
   "mimetype": "text/x-python",
   "name": "python",
   "nbconvert_exporter": "python",
   "pygments_lexer": "ipython3",
   "version": "3.9.12"
  },
  "orig_nbformat": 4
 },
 "nbformat": 4,
 "nbformat_minor": 2
}
